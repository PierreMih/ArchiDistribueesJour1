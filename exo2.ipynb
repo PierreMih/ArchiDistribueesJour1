{
 "cells": [
  {
   "cell_type": "code",
   "id": "initial_id",
   "metadata": {
    "collapsed": true,
    "ExecuteTime": {
     "end_time": "2024-08-20T08:32:44.319045Z",
     "start_time": "2024-08-20T08:32:39.445053Z"
    }
   },
   "source": [
    "from pyspark.sql import SparkSession\n",
    "\n",
    "spark = SparkSession.builder \\\n",
    "    .master(\"local[*]\") \\\n",
    "    .appName(\"Exo2\") \\\n",
    "    .getOrCreate()"
   ],
   "outputs": [],
   "execution_count": 1
  },
  {
   "metadata": {
    "ExecuteTime": {
     "end_time": "2024-08-20T08:33:46.803928Z",
     "start_time": "2024-08-20T08:33:39.741945Z"
    }
   },
   "cell_type": "code",
   "source": [
    "dfgenomescores = spark.read.csv(\"exo2_data/genome_scores.csv\", header=True, inferSchema=True)\n",
    "dfgenomescores.show(5)\n",
    "dfgenomescores.printSchema()"
   ],
   "id": "15ffeeb250ffe501",
   "outputs": [
    {
     "name": "stdout",
     "output_type": "stream",
     "text": [
      "+-------+-----+---------+\n",
      "|movieId|tagId|relevance|\n",
      "+-------+-----+---------+\n",
      "|      1|    1|    0.025|\n",
      "|      1|    2|    0.025|\n",
      "|      1|    3|  0.05775|\n",
      "|      1|    4|  0.09675|\n",
      "|      1|    5|  0.14675|\n",
      "+-------+-----+---------+\n",
      "only showing top 5 rows\n",
      "\n",
      "root\n",
      " |-- movieId: integer (nullable = true)\n",
      " |-- tagId: integer (nullable = true)\n",
      " |-- relevance: double (nullable = true)\n",
      "\n"
     ]
    }
   ],
   "execution_count": 2
  },
  {
   "metadata": {
    "ExecuteTime": {
     "end_time": "2024-08-20T08:34:28.507174Z",
     "start_time": "2024-08-20T08:34:28.172235Z"
    }
   },
   "cell_type": "code",
   "source": [
    "dfgenometags = spark.read.csv(\"exo2_data/genome_tags.csv\", header=True, inferSchema=True)\n",
    "dfgenometags.show(5)\n",
    "dfgenometags.printSchema()"
   ],
   "id": "990a2734c5c1c55",
   "outputs": [
    {
     "name": "stdout",
     "output_type": "stream",
     "text": [
      "+-----+------------+\n",
      "|tagId|         tag|\n",
      "+-----+------------+\n",
      "|    1|         007|\n",
      "|    2|007 (series)|\n",
      "|    3|18th century|\n",
      "|    4|       1920s|\n",
      "|    5|       1930s|\n",
      "+-----+------------+\n",
      "only showing top 5 rows\n",
      "\n",
      "root\n",
      " |-- tagId: integer (nullable = true)\n",
      " |-- tag: string (nullable = true)\n",
      "\n"
     ]
    }
   ],
   "execution_count": 4
  },
  {
   "metadata": {
    "ExecuteTime": {
     "end_time": "2024-08-20T08:34:59.658354Z",
     "start_time": "2024-08-20T08:34:59.347959Z"
    }
   },
   "cell_type": "code",
   "source": [
    "dflink = spark.read.csv(\"exo2_data/link.csv\", header=True, inferSchema=True)\n",
    "dflink.show(5)\n",
    "dflink.printSchema()"
   ],
   "id": "cca68924a79bd93a",
   "outputs": [
    {
     "name": "stdout",
     "output_type": "stream",
     "text": [
      "+-------+------+------+\n",
      "|movieId|imdbId|tmdbId|\n",
      "+-------+------+------+\n",
      "|      1|114709|   862|\n",
      "|      2|113497|  8844|\n",
      "|      3|113228| 15602|\n",
      "|      4|114885| 31357|\n",
      "|      5|113041| 11862|\n",
      "+-------+------+------+\n",
      "only showing top 5 rows\n",
      "\n",
      "root\n",
      " |-- movieId: integer (nullable = true)\n",
      " |-- imdbId: integer (nullable = true)\n",
      " |-- tmdbId: integer (nullable = true)\n",
      "\n"
     ]
    }
   ],
   "execution_count": 5
  },
  {
   "metadata": {
    "ExecuteTime": {
     "end_time": "2024-08-20T08:35:26.819833Z",
     "start_time": "2024-08-20T08:35:26.549637Z"
    }
   },
   "cell_type": "code",
   "source": [
    "dfmovie = spark.read.csv(\"exo2_data/movie.csv\", header=True, inferSchema=True)\n",
    "dfmovie.show(5)\n",
    "dfmovie.printSchema()"
   ],
   "id": "65361d536a9bbc16",
   "outputs": [
    {
     "name": "stdout",
     "output_type": "stream",
     "text": [
      "+-------+--------------------+--------------------+\n",
      "|movieId|               title|              genres|\n",
      "+-------+--------------------+--------------------+\n",
      "|      1|    Toy Story (1995)|Adventure|Animati...|\n",
      "|      2|      Jumanji (1995)|Adventure|Childre...|\n",
      "|      3|Grumpier Old Men ...|      Comedy|Romance|\n",
      "|      4|Waiting to Exhale...|Comedy|Drama|Romance|\n",
      "|      5|Father of the Bri...|              Comedy|\n",
      "+-------+--------------------+--------------------+\n",
      "only showing top 5 rows\n",
      "\n",
      "root\n",
      " |-- movieId: integer (nullable = true)\n",
      " |-- title: string (nullable = true)\n",
      " |-- genres: string (nullable = true)\n",
      "\n"
     ]
    }
   ],
   "execution_count": 6
  },
  {
   "metadata": {
    "ExecuteTime": {
     "end_time": "2024-08-20T08:35:58.355895Z",
     "start_time": "2024-08-20T08:35:52.721636Z"
    }
   },
   "cell_type": "code",
   "source": [
    "dfrating = spark.read.csv(\"exo2_data/rating.csv\", header=True, inferSchema=True)\n",
    "dfrating.show(5)\n",
    "dfrating.printSchema()"
   ],
   "id": "c5e696de72f0e2b8",
   "outputs": [
    {
     "name": "stdout",
     "output_type": "stream",
     "text": [
      "+------+-------+------+-------------------+\n",
      "|userId|movieId|rating|          timestamp|\n",
      "+------+-------+------+-------------------+\n",
      "|     1|      2|   3.5|2005-04-02 23:53:47|\n",
      "|     1|     29|   3.5|2005-04-02 23:31:16|\n",
      "|     1|     32|   3.5|2005-04-02 23:33:39|\n",
      "|     1|     47|   3.5|2005-04-02 23:32:07|\n",
      "|     1|     50|   3.5|2005-04-02 23:29:40|\n",
      "+------+-------+------+-------------------+\n",
      "only showing top 5 rows\n",
      "\n",
      "root\n",
      " |-- userId: integer (nullable = true)\n",
      " |-- movieId: integer (nullable = true)\n",
      " |-- rating: double (nullable = true)\n",
      " |-- timestamp: timestamp (nullable = true)\n",
      "\n"
     ]
    }
   ],
   "execution_count": 7
  },
  {
   "metadata": {
    "ExecuteTime": {
     "end_time": "2024-08-20T08:36:32.803433Z",
     "start_time": "2024-08-20T08:36:32.363175Z"
    }
   },
   "cell_type": "code",
   "source": [
    "dftag = spark.read.csv(\"exo2_data/tag.csv\", header=True, inferSchema=True)\n",
    "dftag.show(5)\n",
    "dftag.printSchema()"
   ],
   "id": "d9b4ac06f4e40adb",
   "outputs": [
    {
     "name": "stdout",
     "output_type": "stream",
     "text": [
      "+------+-------+-------------+-------------------+\n",
      "|userId|movieId|          tag|          timestamp|\n",
      "+------+-------+-------------+-------------------+\n",
      "|    18|   4141|  Mark Waters|2009-04-24 18:19:40|\n",
      "|    65|    208|    dark hero|2013-05-10 01:41:18|\n",
      "|    65|    353|    dark hero|2013-05-10 01:41:19|\n",
      "|    65|    521|noir thriller|2013-05-10 01:39:43|\n",
      "|    65|    592|    dark hero|2013-05-10 01:41:18|\n",
      "+------+-------+-------------+-------------------+\n",
      "only showing top 5 rows\n",
      "\n",
      "root\n",
      " |-- userId: integer (nullable = true)\n",
      " |-- movieId: integer (nullable = true)\n",
      " |-- tag: string (nullable = true)\n",
      " |-- timestamp: timestamp (nullable = true)\n",
      "\n"
     ]
    }
   ],
   "execution_count": 8
  }
 ],
 "metadata": {
  "kernelspec": {
   "display_name": "Python 3",
   "language": "python",
   "name": "python3"
  },
  "language_info": {
   "codemirror_mode": {
    "name": "ipython",
    "version": 2
   },
   "file_extension": ".py",
   "mimetype": "text/x-python",
   "name": "python",
   "nbconvert_exporter": "python",
   "pygments_lexer": "ipython2",
   "version": "2.7.6"
  }
 },
 "nbformat": 4,
 "nbformat_minor": 5
}
