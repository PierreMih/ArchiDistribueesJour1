{
 "cells": [
  {
   "cell_type": "code",
   "id": "initial_id",
   "metadata": {
    "collapsed": true,
    "ExecuteTime": {
     "end_time": "2024-08-20T12:03:13.753233Z",
     "start_time": "2024-08-20T12:03:09.014673Z"
    }
   },
   "source": [
    "from pyspark.sql import SparkSession\n",
    "\n",
    "spark = SparkSession.builder \\\n",
    "    .master(\"local[*]\") \\\n",
    "    .appName(\"Exo2\") \\\n",
    "    .getOrCreate()"
   ],
   "outputs": [],
   "execution_count": 2
  },
  {
   "metadata": {
    "ExecuteTime": {
     "end_time": "2024-08-20T12:03:22.807975Z",
     "start_time": "2024-08-20T12:03:13.765248Z"
    }
   },
   "cell_type": "code",
   "source": [
    "dfgenomescores = spark.read.csv(\"exo2_data/genome_scores.csv\", header=True, inferSchema=True)\n",
    "dfgenomescores.show(5)\n",
    "dfgenomescores.printSchema()\n",
    "dfgenomescores.select('relevance').describe().show()"
   ],
   "id": "15ffeeb250ffe501",
   "outputs": [
    {
     "name": "stdout",
     "output_type": "stream",
     "text": [
      "+-------+-----+---------+\n",
      "|movieId|tagId|relevance|\n",
      "+-------+-----+---------+\n",
      "|      1|    1|    0.025|\n",
      "|      1|    2|    0.025|\n",
      "|      1|    3|  0.05775|\n",
      "|      1|    4|  0.09675|\n",
      "|      1|    5|  0.14675|\n",
      "+-------+-----+---------+\n",
      "only showing top 5 rows\n",
      "\n",
      "root\n",
      " |-- movieId: integer (nullable = true)\n",
      " |-- tagId: integer (nullable = true)\n",
      " |-- relevance: double (nullable = true)\n",
      "\n",
      "+-------+-------------------+\n",
      "|summary|          relevance|\n",
      "+-------+-------------------+\n",
      "|  count|           11709768|\n",
      "|   mean|0.11648331730398041|\n",
      "| stddev| 0.1542462566337565|\n",
      "|    min|2.49999999999972E-4|\n",
      "|    max|                1.0|\n",
      "+-------+-------------------+\n",
      "\n"
     ]
    }
   ],
   "execution_count": 3
  },
  {
   "metadata": {
    "ExecuteTime": {
     "end_time": "2024-08-20T12:03:23.139684Z",
     "start_time": "2024-08-20T12:03:22.864953Z"
    }
   },
   "cell_type": "code",
   "source": [
    "dfgenometags = spark.read.csv(\"exo2_data/genome_tags.csv\", header=True, inferSchema=True)\n",
    "dfgenometags.show(5)\n",
    "dfgenometags.printSchema()"
   ],
   "id": "990a2734c5c1c55",
   "outputs": [
    {
     "name": "stdout",
     "output_type": "stream",
     "text": [
      "+-----+------------+\n",
      "|tagId|         tag|\n",
      "+-----+------------+\n",
      "|    1|         007|\n",
      "|    2|007 (series)|\n",
      "|    3|18th century|\n",
      "|    4|       1920s|\n",
      "|    5|       1930s|\n",
      "+-----+------------+\n",
      "only showing top 5 rows\n",
      "\n",
      "root\n",
      " |-- tagId: integer (nullable = true)\n",
      " |-- tag: string (nullable = true)\n",
      "\n"
     ]
    }
   ],
   "execution_count": 4
  },
  {
   "metadata": {
    "ExecuteTime": {
     "end_time": "2024-08-20T12:03:23.434890Z",
     "start_time": "2024-08-20T12:03:23.171454Z"
    }
   },
   "cell_type": "code",
   "source": [
    "dflink = spark.read.csv(\"exo2_data/link.csv\", header=True, inferSchema=True)\n",
    "dflink.show(5)\n",
    "dflink.printSchema()"
   ],
   "id": "cca68924a79bd93a",
   "outputs": [
    {
     "name": "stdout",
     "output_type": "stream",
     "text": [
      "+-------+------+------+\n",
      "|movieId|imdbId|tmdbId|\n",
      "+-------+------+------+\n",
      "|      1|114709|   862|\n",
      "|      2|113497|  8844|\n",
      "|      3|113228| 15602|\n",
      "|      4|114885| 31357|\n",
      "|      5|113041| 11862|\n",
      "+-------+------+------+\n",
      "only showing top 5 rows\n",
      "\n",
      "root\n",
      " |-- movieId: integer (nullable = true)\n",
      " |-- imdbId: integer (nullable = true)\n",
      " |-- tmdbId: integer (nullable = true)\n",
      "\n"
     ]
    }
   ],
   "execution_count": 5
  },
  {
   "metadata": {
    "ExecuteTime": {
     "end_time": "2024-08-20T12:03:23.732361Z",
     "start_time": "2024-08-20T12:03:23.462073Z"
    }
   },
   "cell_type": "code",
   "source": [
    "dfmovie = spark.read.csv(\"exo2_data/movie.csv\", header=True, inferSchema=True)\n",
    "dfmovie.show(5)\n",
    "dfmovie.printSchema()"
   ],
   "id": "65361d536a9bbc16",
   "outputs": [
    {
     "name": "stdout",
     "output_type": "stream",
     "text": [
      "+-------+--------------------+--------------------+\n",
      "|movieId|               title|              genres|\n",
      "+-------+--------------------+--------------------+\n",
      "|      1|    Toy Story (1995)|Adventure|Animati...|\n",
      "|      2|      Jumanji (1995)|Adventure|Childre...|\n",
      "|      3|Grumpier Old Men ...|      Comedy|Romance|\n",
      "|      4|Waiting to Exhale...|Comedy|Drama|Romance|\n",
      "|      5|Father of the Bri...|              Comedy|\n",
      "+-------+--------------------+--------------------+\n",
      "only showing top 5 rows\n",
      "\n",
      "root\n",
      " |-- movieId: integer (nullable = true)\n",
      " |-- title: string (nullable = true)\n",
      " |-- genres: string (nullable = true)\n",
      "\n"
     ]
    }
   ],
   "execution_count": 6
  },
  {
   "metadata": {
    "ExecuteTime": {
     "end_time": "2024-08-20T12:03:32.728776Z",
     "start_time": "2024-08-20T12:03:23.762298Z"
    }
   },
   "cell_type": "code",
   "source": [
    "dfrating = spark.read.csv(\"exo2_data/rating.csv\", header=True, inferSchema=True)\n",
    "dfrating.show(5)\n",
    "dfrating.printSchema()\n",
    "dfrating.select('rating').describe().show()"
   ],
   "id": "c5e696de72f0e2b8",
   "outputs": [
    {
     "name": "stdout",
     "output_type": "stream",
     "text": [
      "+------+-------+------+-------------------+\n",
      "|userId|movieId|rating|          timestamp|\n",
      "+------+-------+------+-------------------+\n",
      "|     1|      2|   3.5|2005-04-02 23:53:47|\n",
      "|     1|     29|   3.5|2005-04-02 23:31:16|\n",
      "|     1|     32|   3.5|2005-04-02 23:33:39|\n",
      "|     1|     47|   3.5|2005-04-02 23:32:07|\n",
      "|     1|     50|   3.5|2005-04-02 23:29:40|\n",
      "+------+-------+------+-------------------+\n",
      "only showing top 5 rows\n",
      "\n",
      "root\n",
      " |-- userId: integer (nullable = true)\n",
      " |-- movieId: integer (nullable = true)\n",
      " |-- rating: double (nullable = true)\n",
      " |-- timestamp: timestamp (nullable = true)\n",
      "\n",
      "+-------+------------------+\n",
      "|summary|            rating|\n",
      "+-------+------------------+\n",
      "|  count|          20000263|\n",
      "|   mean|3.5255285642993797|\n",
      "| stddev| 1.051988919294243|\n",
      "|    min|               0.5|\n",
      "|    max|               5.0|\n",
      "+-------+------------------+\n",
      "\n"
     ]
    }
   ],
   "execution_count": 7
  },
  {
   "metadata": {
    "ExecuteTime": {
     "end_time": "2024-08-20T12:03:33.283696Z",
     "start_time": "2024-08-20T12:03:32.748790Z"
    }
   },
   "cell_type": "code",
   "source": [
    "dftag = spark.read.csv(\"exo2_data/tag.csv\", header=True, inferSchema=True)\n",
    "dftag.show(5)\n",
    "dftag.printSchema()"
   ],
   "id": "d9b4ac06f4e40adb",
   "outputs": [
    {
     "name": "stdout",
     "output_type": "stream",
     "text": [
      "+------+-------+-------------+-------------------+\n",
      "|userId|movieId|          tag|          timestamp|\n",
      "+------+-------+-------------+-------------------+\n",
      "|    18|   4141|  Mark Waters|2009-04-24 18:19:40|\n",
      "|    65|    208|    dark hero|2013-05-10 01:41:18|\n",
      "|    65|    353|    dark hero|2013-05-10 01:41:19|\n",
      "|    65|    521|noir thriller|2013-05-10 01:39:43|\n",
      "|    65|    592|    dark hero|2013-05-10 01:41:18|\n",
      "+------+-------+-------------+-------------------+\n",
      "only showing top 5 rows\n",
      "\n",
      "root\n",
      " |-- userId: integer (nullable = true)\n",
      " |-- movieId: integer (nullable = true)\n",
      " |-- tag: string (nullable = true)\n",
      " |-- timestamp: timestamp (nullable = true)\n",
      "\n"
     ]
    }
   ],
   "execution_count": 8
  },
  {
   "metadata": {
    "ExecuteTime": {
     "end_time": "2024-08-20T12:07:28.782051Z",
     "start_time": "2024-08-20T12:07:13.595672Z"
    }
   },
   "cell_type": "code",
   "source": [
    "from pyspark.sql.functions import col\n",
    "\n",
    "dfgenomescores.groupby('movieId', 'tagId').count().where(col('count') > 1).show()\n",
    "dfgenomescores.groupby('movieId', 'tagId').count().orderBy('count', ascending=False).show()"
   ],
   "id": "76d9bd11333c8ebd",
   "outputs": [
    {
     "name": "stdout",
     "output_type": "stream",
     "text": [
      "+-------+-----+-----+\n",
      "|movieId|tagId|count|\n",
      "+-------+-----+-----+\n",
      "+-------+-----+-----+\n",
      "\n",
      "+-------+-----+-----+\n",
      "|movieId|tagId|count|\n",
      "+-------+-----+-----+\n",
      "|      1|   16|    1|\n",
      "|      1|    2|    1|\n",
      "|      1|   25|    1|\n",
      "|      1|    7|    1|\n",
      "|      1|    3|    1|\n",
      "|      1|   20|    1|\n",
      "|      1|   37|    1|\n",
      "|      1|   32|    1|\n",
      "|      1|    1|    1|\n",
      "|      1|   49|    1|\n",
      "|      1|   46|    1|\n",
      "|      1|   81|    1|\n",
      "|      1|   11|    1|\n",
      "|      1|   93|    1|\n",
      "|      1|   59|    1|\n",
      "|      1|  100|    1|\n",
      "|      1|   80|    1|\n",
      "|      1|  117|    1|\n",
      "|      1|   95|    1|\n",
      "|      1|  118|    1|\n",
      "+-------+-----+-----+\n",
      "only showing top 20 rows\n",
      "\n"
     ]
    }
   ],
   "execution_count": 12
  },
  {
   "metadata": {
    "ExecuteTime": {
     "end_time": "2024-08-20T12:21:27.985544Z",
     "start_time": "2024-08-20T12:21:25.492928Z"
    }
   },
   "cell_type": "code",
   "source": [
    "print(dfgenomescores.select('movieId').count())\n",
    "print(dfgenomescores.select('movieId').subtract(dfmovie.select('movieId')).count())"
   ],
   "id": "190ba1287cb67263",
   "outputs": [
    {
     "name": "stdout",
     "output_type": "stream",
     "text": [
      "11709768\n",
      "0\n"
     ]
    }
   ],
   "execution_count": 18
  },
  {
   "metadata": {
    "ExecuteTime": {
     "end_time": "2024-08-20T12:23:40.191963Z",
     "start_time": "2024-08-20T12:23:37.744429Z"
    }
   },
   "cell_type": "code",
   "source": [
    "print(dfgenomescores.select('tagId').count())\n",
    "print(dfgenomescores.select('tagId').subtract(dfgenometags.select('tagId')).count())"
   ],
   "id": "65b53cf0ffc7cedf",
   "outputs": [
    {
     "name": "stdout",
     "output_type": "stream",
     "text": [
      "11709768\n",
      "0\n"
     ]
    }
   ],
   "execution_count": 20
  },
  {
   "metadata": {
    "ExecuteTime": {
     "end_time": "2024-08-20T12:27:25.413615Z",
     "start_time": "2024-08-20T12:27:25.113999Z"
    }
   },
   "cell_type": "code",
   "source": [
    "print(dfgenometags.count())\n",
    "print(dfgenometags.select('tagId').distinct().count())"
   ],
   "id": "9e2e5dd099a18c7",
   "outputs": [
    {
     "name": "stdout",
     "output_type": "stream",
     "text": [
      "1128\n",
      "1128\n"
     ]
    }
   ],
   "execution_count": 21
  },
  {
   "metadata": {
    "ExecuteTime": {
     "end_time": "2024-08-20T12:27:54.842088Z",
     "start_time": "2024-08-20T12:27:54.450981Z"
    }
   },
   "cell_type": "code",
   "source": [
    "print(dfgenometags.count())\n",
    "print(dfgenometags.select('tag').distinct().count())"
   ],
   "id": "b9053ec58749b7ae",
   "outputs": [
    {
     "name": "stdout",
     "output_type": "stream",
     "text": [
      "1128\n",
      "1128\n"
     ]
    }
   ],
   "execution_count": 22
  },
  {
   "metadata": {
    "ExecuteTime": {
     "end_time": "2024-08-20T12:32:47.885360Z",
     "start_time": "2024-08-20T12:32:47.584368Z"
    }
   },
   "cell_type": "code",
   "source": [
    "print(dfmovie.count())\n",
    "print(dfmovie.select('movieId').distinct().count())"
   ],
   "id": "a85615e179a230af",
   "outputs": [
    {
     "name": "stdout",
     "output_type": "stream",
     "text": [
      "27278\n",
      "27278\n"
     ]
    }
   ],
   "execution_count": 25
  },
  {
   "metadata": {
    "ExecuteTime": {
     "end_time": "2024-08-20T12:32:58.410134Z",
     "start_time": "2024-08-20T12:32:58.081708Z"
    }
   },
   "cell_type": "code",
   "source": [
    "print(dfmovie.count())\n",
    "print(dfmovie.select('title').distinct().count())"
   ],
   "id": "df5cb0a0cbda129f",
   "outputs": [
    {
     "name": "stdout",
     "output_type": "stream",
     "text": [
      "27278\n",
      "27262\n"
     ]
    }
   ],
   "execution_count": 26
  },
  {
   "metadata": {
    "ExecuteTime": {
     "end_time": "2024-08-20T12:40:31.478143Z",
     "start_time": "2024-08-20T12:40:31.207919Z"
    }
   },
   "cell_type": "code",
   "source": [
    "dfmovie_duplicateswithcount = dfmovie.groupby('title').count().where(col('count') > 1)\n",
    "dfmovie_duplicateswithcount.show()"
   ],
   "id": "190a761020ff5bc1",
   "outputs": [
    {
     "name": "stdout",
     "output_type": "stream",
     "text": [
      "+--------------------+-----+\n",
      "|               title|count|\n",
      "+--------------------+-----+\n",
      "|     Casanova (2005)|    2|\n",
      "|     Paradise (2013)|    2|\n",
      "|       Hamlet (2000)|    2|\n",
      "|     Blackout (2007)|    2|\n",
      "|        Chaos (2005)|    2|\n",
      "|         Emma (1996)|    2|\n",
      "|      Aladdin (1992)|    2|\n",
      "|Johnny Express (2...|    2|\n",
      "|War of the Worlds...|    2|\n",
      "|      Beneath (2013)|    2|\n",
      "|Clear History (2013)|    2|\n",
      "|Men with Guns (1997)|    2|\n",
      "|20,000 Leagues Un...|    2|\n",
      "|      Darling (2007)|    2|\n",
      "|    Girl, The (2012)|    2|\n",
      "|      Offside (2006)|    2|\n",
      "+--------------------+-----+\n",
      "\n"
     ]
    }
   ],
   "execution_count": 37
  },
  {
   "metadata": {
    "ExecuteTime": {
     "end_time": "2024-08-20T12:37:07.046706Z",
     "start_time": "2024-08-20T12:37:06.715992Z"
    }
   },
   "cell_type": "code",
   "source": [
    "dfmovie_duplicates = dfmovie_duplicateswithcount.select('title')\n",
    "dfmovie_duplicates.show()"
   ],
   "id": "4b5070c9cd003765",
   "outputs": [
    {
     "name": "stdout",
     "output_type": "stream",
     "text": [
      "+--------------------+\n",
      "|               title|\n",
      "+--------------------+\n",
      "|     Casanova (2005)|\n",
      "|     Paradise (2013)|\n",
      "|       Hamlet (2000)|\n",
      "|     Blackout (2007)|\n",
      "|        Chaos (2005)|\n",
      "|         Emma (1996)|\n",
      "|      Aladdin (1992)|\n",
      "|Johnny Express (2...|\n",
      "|War of the Worlds...|\n",
      "|      Beneath (2013)|\n",
      "|Clear History (2013)|\n",
      "|Men with Guns (1997)|\n",
      "|20,000 Leagues Un...|\n",
      "|      Darling (2007)|\n",
      "|    Girl, The (2012)|\n",
      "|      Offside (2006)|\n",
      "+--------------------+\n",
      "\n"
     ]
    }
   ],
   "execution_count": 31
  },
  {
   "metadata": {
    "ExecuteTime": {
     "end_time": "2024-08-20T12:47:11.369681Z",
     "start_time": "2024-08-20T12:47:10.999773Z"
    }
   },
   "cell_type": "code",
   "source": "dfmovie.join(dfmovie_duplicates, on='title').orderBy('title').show(1000)",
   "id": "1bd1a264a9c4bb35",
   "outputs": [
    {
     "name": "stdout",
     "output_type": "stream",
     "text": [
      "+--------------------+-------+--------------------+\n",
      "|               title|movieId|              genres|\n",
      "+--------------------+-------+--------------------+\n",
      "|20,000 Leagues Un...| 102190|Adventure|Romance...|\n",
      "|20,000 Leagues Un...| 114130|      Romance|Sci-Fi|\n",
      "|      Aladdin (1992)|    588|Adventure|Animati...|\n",
      "|      Aladdin (1992)| 114240|Adventure|Animati...|\n",
      "|      Beneath (2013)| 104035|              Horror|\n",
      "|      Beneath (2013)| 115777|              Horror|\n",
      "|     Blackout (2007)|  66140|     Horror|Thriller|\n",
      "|     Blackout (2007)|  85070|               Drama|\n",
      "|     Casanova (2005)|  42015|Action|Adventure|...|\n",
      "|     Casanova (2005)| 128862|Comedy|Drama|Romance|\n",
      "|        Chaos (2005)|  47254|Action|Crime|Dram...|\n",
      "|        Chaos (2005)|  67459|  Crime|Drama|Horror|\n",
      "|Clear History (2013)| 104155|              Comedy|\n",
      "|Clear History (2013)| 122940|              Comedy|\n",
      "|      Darling (2007)|  93279|               Drama|\n",
      "|      Darling (2007)| 130062|               Drama|\n",
      "|         Emma (1996)|    838|Comedy|Drama|Romance|\n",
      "|         Emma (1996)|  26958|             Romance|\n",
      "|    Girl, The (2012)|  97773|               Drama|\n",
      "|    Girl, The (2012)| 101212|               Drama|\n",
      "|       Hamlet (2000)|   3598|Crime|Drama|Roman...|\n",
      "|       Hamlet (2000)|  65665|               Drama|\n",
      "|Johnny Express (2...| 111519|Animation|Comedy|...|\n",
      "|Johnny Express (2...| 128991|Animation|Comedy|...|\n",
      "|Men with Guns (1997)|   1788|        Action|Drama|\n",
      "|Men with Guns (1997)|  26982|               Drama|\n",
      "|      Offside (2006)|  48682|        Comedy|Drama|\n",
      "|      Offside (2006)|  80330|        Comedy|Drama|\n",
      "|     Paradise (2013)| 113459|        Comedy|Drama|\n",
      "|     Paradise (2013)| 121586|             Romance|\n",
      "|War of the Worlds...|  34048|Action|Adventure|...|\n",
      "|War of the Worlds...|  64997|       Action|Sci-Fi|\n",
      "+--------------------+-------+--------------------+\n",
      "\n"
     ]
    }
   ],
   "execution_count": 45
  },
  {
   "metadata": {
    "ExecuteTime": {
     "end_time": "2024-08-20T12:47:46.840753Z",
     "start_time": "2024-08-20T12:47:46.464696Z"
    }
   },
   "cell_type": "code",
   "source": [
    "dfmovie_toberemoved = dfmovie.join(dfmovie_duplicates, on='title').select('movieId')\n",
    "dfmovie_toberemoved.show(1000)"
   ],
   "id": "fbc9495517318642",
   "outputs": [
    {
     "name": "stdout",
     "output_type": "stream",
     "text": [
      "+-------+\n",
      "|movieId|\n",
      "+-------+\n",
      "| 128862|\n",
      "|  42015|\n",
      "| 121586|\n",
      "| 113459|\n",
      "|  65665|\n",
      "|   3598|\n",
      "|  85070|\n",
      "|  66140|\n",
      "|  67459|\n",
      "|  47254|\n",
      "|  26958|\n",
      "|    838|\n",
      "| 114240|\n",
      "|    588|\n",
      "| 128991|\n",
      "| 111519|\n",
      "|  64997|\n",
      "|  34048|\n",
      "| 115777|\n",
      "| 104035|\n",
      "| 122940|\n",
      "| 104155|\n",
      "|  26982|\n",
      "|   1788|\n",
      "| 114130|\n",
      "| 102190|\n",
      "| 130062|\n",
      "|  93279|\n",
      "| 101212|\n",
      "|  97773|\n",
      "|  80330|\n",
      "|  48682|\n",
      "+-------+\n",
      "\n"
     ]
    }
   ],
   "execution_count": 47
  },
  {
   "metadata": {
    "ExecuteTime": {
     "end_time": "2024-08-20T13:17:46.563774Z",
     "start_time": "2024-08-20T13:17:42.605328Z"
    }
   },
   "cell_type": "code",
   "source": [
    "print(dfrating.select('movieId').count())\n",
    "print(dfrating.select('movieId').join(dfmovie, on='movieId').count())"
   ],
   "id": "9fbb72586e7c624d",
   "outputs": [
    {
     "name": "stdout",
     "output_type": "stream",
     "text": [
      "20000263\n",
      "20000263\n"
     ]
    }
   ],
   "execution_count": 48
  }
 ],
 "metadata": {
  "kernelspec": {
   "display_name": "Python 3",
   "language": "python",
   "name": "python3"
  },
  "language_info": {
   "codemirror_mode": {
    "name": "ipython",
    "version": 2
   },
   "file_extension": ".py",
   "mimetype": "text/x-python",
   "name": "python",
   "nbconvert_exporter": "python",
   "pygments_lexer": "ipython2",
   "version": "2.7.6"
  }
 },
 "nbformat": 4,
 "nbformat_minor": 5
}
