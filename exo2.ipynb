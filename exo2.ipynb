{
 "cells": [
  {
   "cell_type": "code",
   "id": "initial_id",
   "metadata": {
    "collapsed": true,
    "ExecuteTime": {
     "end_time": "2024-08-21T08:44:15.326716Z",
     "start_time": "2024-08-21T08:44:11.274721Z"
    }
   },
   "source": [
    "from pyspark.ml.evaluation import RegressionEvaluator\n",
    "from pyspark.sql import SparkSession\n",
    "\n",
    "spark = SparkSession.builder \\\n",
    "    .master(\"local[*]\") \\\n",
    "    .appName(\"Exo2\") \\\n",
    "    .config(\"spark.ui.port\",\"4050\")\\\n",
    "    .config(\"spark.executor.memory\",\"10g\")\\\n",
    "    .config(\"spark.driver.memory\",\"4g\")\\\n",
    "    .getOrCreate()"
   ],
   "outputs": [],
   "execution_count": 1
  },
  {
   "metadata": {
    "ExecuteTime": {
     "end_time": "2024-08-21T08:44:25.729477Z",
     "start_time": "2024-08-21T08:44:15.334017Z"
    }
   },
   "cell_type": "code",
   "source": [
    "dfgenomescores = spark.read.csv(\"exo2_data/genome_scores.csv\", header=True, inferSchema=True)\n",
    "dfgenomescores.show(5)\n",
    "dfgenomescores.printSchema()\n",
    "dfgenomescores.select('relevance').describe().show()"
   ],
   "id": "15ffeeb250ffe501",
   "outputs": [
    {
     "name": "stdout",
     "output_type": "stream",
     "text": [
      "+-------+-----+---------+\n",
      "|movieId|tagId|relevance|\n",
      "+-------+-----+---------+\n",
      "|      1|    1|    0.025|\n",
      "|      1|    2|    0.025|\n",
      "|      1|    3|  0.05775|\n",
      "|      1|    4|  0.09675|\n",
      "|      1|    5|  0.14675|\n",
      "+-------+-----+---------+\n",
      "only showing top 5 rows\n",
      "\n",
      "root\n",
      " |-- movieId: integer (nullable = true)\n",
      " |-- tagId: integer (nullable = true)\n",
      " |-- relevance: double (nullable = true)\n",
      "\n",
      "+-------+-------------------+\n",
      "|summary|          relevance|\n",
      "+-------+-------------------+\n",
      "|  count|           11709768|\n",
      "|   mean|0.11648331730398041|\n",
      "| stddev| 0.1542462566337565|\n",
      "|    min|2.49999999999972E-4|\n",
      "|    max|                1.0|\n",
      "+-------+-------------------+\n",
      "\n"
     ]
    }
   ],
   "execution_count": 2
  },
  {
   "metadata": {
    "ExecuteTime": {
     "end_time": "2024-08-21T08:44:26.182859Z",
     "start_time": "2024-08-21T08:44:25.875047Z"
    }
   },
   "cell_type": "code",
   "source": [
    "dfgenometags = spark.read.csv(\"exo2_data/genome_tags.csv\", header=True, inferSchema=True)\n",
    "dfgenometags.show(5)\n",
    "dfgenometags.printSchema()"
   ],
   "id": "990a2734c5c1c55",
   "outputs": [
    {
     "name": "stdout",
     "output_type": "stream",
     "text": [
      "+-----+------------+\n",
      "|tagId|         tag|\n",
      "+-----+------------+\n",
      "|    1|         007|\n",
      "|    2|007 (series)|\n",
      "|    3|18th century|\n",
      "|    4|       1920s|\n",
      "|    5|       1930s|\n",
      "+-----+------------+\n",
      "only showing top 5 rows\n",
      "\n",
      "root\n",
      " |-- tagId: integer (nullable = true)\n",
      " |-- tag: string (nullable = true)\n",
      "\n"
     ]
    }
   ],
   "execution_count": 3
  },
  {
   "metadata": {
    "ExecuteTime": {
     "end_time": "2024-08-21T08:44:26.528255Z",
     "start_time": "2024-08-21T08:44:26.203906Z"
    }
   },
   "cell_type": "code",
   "source": [
    "dflink = spark.read.csv(\"exo2_data/link.csv\", header=True, inferSchema=True)\n",
    "dflink.show(5)\n",
    "dflink.printSchema()"
   ],
   "id": "cca68924a79bd93a",
   "outputs": [
    {
     "name": "stdout",
     "output_type": "stream",
     "text": [
      "+-------+------+------+\n",
      "|movieId|imdbId|tmdbId|\n",
      "+-------+------+------+\n",
      "|      1|114709|   862|\n",
      "|      2|113497|  8844|\n",
      "|      3|113228| 15602|\n",
      "|      4|114885| 31357|\n",
      "|      5|113041| 11862|\n",
      "+-------+------+------+\n",
      "only showing top 5 rows\n",
      "\n",
      "root\n",
      " |-- movieId: integer (nullable = true)\n",
      " |-- imdbId: integer (nullable = true)\n",
      " |-- tmdbId: integer (nullable = true)\n",
      "\n"
     ]
    }
   ],
   "execution_count": 4
  },
  {
   "metadata": {
    "ExecuteTime": {
     "end_time": "2024-08-21T08:44:26.913635Z",
     "start_time": "2024-08-21T08:44:26.551901Z"
    }
   },
   "cell_type": "code",
   "source": [
    "dfmovie = spark.read.csv(\"exo2_data/movie.csv\", header=True, inferSchema=True)\n",
    "dfmovie.show(5)\n",
    "dfmovie.printSchema()"
   ],
   "id": "65361d536a9bbc16",
   "outputs": [
    {
     "name": "stdout",
     "output_type": "stream",
     "text": [
      "+-------+--------------------+--------------------+\n",
      "|movieId|               title|              genres|\n",
      "+-------+--------------------+--------------------+\n",
      "|      1|    Toy Story (1995)|Adventure|Animati...|\n",
      "|      2|      Jumanji (1995)|Adventure|Childre...|\n",
      "|      3|Grumpier Old Men ...|      Comedy|Romance|\n",
      "|      4|Waiting to Exhale...|Comedy|Drama|Romance|\n",
      "|      5|Father of the Bri...|              Comedy|\n",
      "+-------+--------------------+--------------------+\n",
      "only showing top 5 rows\n",
      "\n",
      "root\n",
      " |-- movieId: integer (nullable = true)\n",
      " |-- title: string (nullable = true)\n",
      " |-- genres: string (nullable = true)\n",
      "\n"
     ]
    }
   ],
   "execution_count": 5
  },
  {
   "metadata": {
    "ExecuteTime": {
     "end_time": "2024-08-21T08:44:39.604116Z",
     "start_time": "2024-08-21T08:44:26.948955Z"
    }
   },
   "cell_type": "code",
   "source": [
    "dfrating = spark.read.csv(\"exo2_data/rating.csv\", header=True, inferSchema=True)\n",
    "dfrating.show(5)\n",
    "dfrating.printSchema()\n",
    "dfrating.select('rating').describe().show()"
   ],
   "id": "c5e696de72f0e2b8",
   "outputs": [
    {
     "name": "stdout",
     "output_type": "stream",
     "text": [
      "+------+-------+------+-------------------+\n",
      "|userId|movieId|rating|          timestamp|\n",
      "+------+-------+------+-------------------+\n",
      "|     1|      2|   3.5|2005-04-02 23:53:47|\n",
      "|     1|     29|   3.5|2005-04-02 23:31:16|\n",
      "|     1|     32|   3.5|2005-04-02 23:33:39|\n",
      "|     1|     47|   3.5|2005-04-02 23:32:07|\n",
      "|     1|     50|   3.5|2005-04-02 23:29:40|\n",
      "+------+-------+------+-------------------+\n",
      "only showing top 5 rows\n",
      "\n",
      "root\n",
      " |-- userId: integer (nullable = true)\n",
      " |-- movieId: integer (nullable = true)\n",
      " |-- rating: double (nullable = true)\n",
      " |-- timestamp: timestamp (nullable = true)\n",
      "\n",
      "+-------+------------------+\n",
      "|summary|            rating|\n",
      "+-------+------------------+\n",
      "|  count|          20000263|\n",
      "|   mean|3.5255285642993797|\n",
      "| stddev| 1.051988919294243|\n",
      "|    min|               0.5|\n",
      "|    max|               5.0|\n",
      "+-------+------------------+\n",
      "\n"
     ]
    }
   ],
   "execution_count": 6
  },
  {
   "metadata": {
    "ExecuteTime": {
     "end_time": "2024-08-21T08:44:40.344039Z",
     "start_time": "2024-08-21T08:44:39.626925Z"
    }
   },
   "cell_type": "code",
   "source": [
    "dftag = spark.read.csv(\"exo2_data/tag.csv\", header=True, inferSchema=True)\n",
    "dftag.show(5)\n",
    "dftag.printSchema()"
   ],
   "id": "d9b4ac06f4e40adb",
   "outputs": [
    {
     "name": "stdout",
     "output_type": "stream",
     "text": [
      "+------+-------+-------------+-------------------+\n",
      "|userId|movieId|          tag|          timestamp|\n",
      "+------+-------+-------------+-------------------+\n",
      "|    18|   4141|  Mark Waters|2009-04-24 18:19:40|\n",
      "|    65|    208|    dark hero|2013-05-10 01:41:18|\n",
      "|    65|    353|    dark hero|2013-05-10 01:41:19|\n",
      "|    65|    521|noir thriller|2013-05-10 01:39:43|\n",
      "|    65|    592|    dark hero|2013-05-10 01:41:18|\n",
      "+------+-------+-------------+-------------------+\n",
      "only showing top 5 rows\n",
      "\n",
      "root\n",
      " |-- userId: integer (nullable = true)\n",
      " |-- movieId: integer (nullable = true)\n",
      " |-- tag: string (nullable = true)\n",
      " |-- timestamp: timestamp (nullable = true)\n",
      "\n"
     ]
    }
   ],
   "execution_count": 7
  },
  {
   "metadata": {
    "ExecuteTime": {
     "end_time": "2024-08-21T08:44:56.170192Z",
     "start_time": "2024-08-21T08:44:40.364108Z"
    }
   },
   "cell_type": "code",
   "source": [
    "from pyspark.sql.functions import col\n",
    "\n",
    "dfgenomescores.groupby('movieId', 'tagId').count().where(col('count') > 1).show()\n",
    "dfgenomescores.groupby('movieId', 'tagId').count().orderBy('count', ascending=False).show()"
   ],
   "id": "76d9bd11333c8ebd",
   "outputs": [
    {
     "name": "stdout",
     "output_type": "stream",
     "text": [
      "+-------+-----+-----+\n",
      "|movieId|tagId|count|\n",
      "+-------+-----+-----+\n",
      "+-------+-----+-----+\n",
      "\n",
      "+-------+-----+-----+\n",
      "|movieId|tagId|count|\n",
      "+-------+-----+-----+\n",
      "|      1|   60|    1|\n",
      "|      1|   80|    1|\n",
      "|      1|   94|    1|\n",
      "|      1|  248|    1|\n",
      "|      1|  443|    1|\n",
      "|      1|  350|    1|\n",
      "|      1|  544|    1|\n",
      "|      1|  431|    1|\n",
      "|      1|   65|    1|\n",
      "|      1|  530|    1|\n",
      "|      1|  771|    1|\n",
      "|      1|  638|    1|\n",
      "|      1|  479|    1|\n",
      "|      1|  662|    1|\n",
      "|      1|  888|    1|\n",
      "|      9| 1121|    1|\n",
      "|      1|  224|    1|\n",
      "|     10| 1101|    1|\n",
      "|      1|  989|    1|\n",
      "|     13| 1078|    1|\n",
      "+-------+-----+-----+\n",
      "only showing top 20 rows\n",
      "\n"
     ]
    }
   ],
   "execution_count": 8
  },
  {
   "metadata": {
    "ExecuteTime": {
     "end_time": "2024-08-21T08:45:01.724976Z",
     "start_time": "2024-08-21T08:44:56.228130Z"
    }
   },
   "cell_type": "code",
   "source": [
    "print(dfgenomescores.select('movieId').count())\n",
    "print(dfgenomescores.select('movieId').subtract(dfmovie.select('movieId')).count())"
   ],
   "id": "190ba1287cb67263",
   "outputs": [
    {
     "name": "stdout",
     "output_type": "stream",
     "text": [
      "11709768\n",
      "0\n"
     ]
    }
   ],
   "execution_count": 9
  },
  {
   "metadata": {
    "ExecuteTime": {
     "end_time": "2024-08-21T08:45:06.095156Z",
     "start_time": "2024-08-21T08:45:01.748721Z"
    }
   },
   "cell_type": "code",
   "source": [
    "print(dfgenomescores.select('tagId').count())\n",
    "print(dfgenomescores.select('tagId').subtract(dfgenometags.select('tagId')).count())"
   ],
   "id": "65b53cf0ffc7cedf",
   "outputs": [
    {
     "name": "stdout",
     "output_type": "stream",
     "text": [
      "11709768\n",
      "0\n"
     ]
    }
   ],
   "execution_count": 10
  },
  {
   "metadata": {
    "ExecuteTime": {
     "end_time": "2024-08-21T08:45:06.750245Z",
     "start_time": "2024-08-21T08:45:06.117376Z"
    }
   },
   "cell_type": "code",
   "source": [
    "print(dfgenometags.count())\n",
    "print(dfgenometags.select('tagId').distinct().count())"
   ],
   "id": "9e2e5dd099a18c7",
   "outputs": [
    {
     "name": "stdout",
     "output_type": "stream",
     "text": [
      "1128\n",
      "1128\n"
     ]
    }
   ],
   "execution_count": 11
  },
  {
   "metadata": {
    "ExecuteTime": {
     "end_time": "2024-08-21T08:45:07.470144Z",
     "start_time": "2024-08-21T08:45:06.770792Z"
    }
   },
   "cell_type": "code",
   "source": [
    "print(dfgenometags.count())\n",
    "print(dfgenometags.select('tag').distinct().count())"
   ],
   "id": "b9053ec58749b7ae",
   "outputs": [
    {
     "name": "stdout",
     "output_type": "stream",
     "text": [
      "1128\n",
      "1128\n"
     ]
    }
   ],
   "execution_count": 12
  },
  {
   "metadata": {
    "ExecuteTime": {
     "end_time": "2024-08-21T08:45:08.237168Z",
     "start_time": "2024-08-21T08:45:07.492787Z"
    }
   },
   "cell_type": "code",
   "source": [
    "print(dfmovie.count())\n",
    "print(dfmovie.select('movieId').distinct().count())"
   ],
   "id": "a85615e179a230af",
   "outputs": [
    {
     "name": "stdout",
     "output_type": "stream",
     "text": [
      "27278\n",
      "27278\n"
     ]
    }
   ],
   "execution_count": 13
  },
  {
   "metadata": {
    "ExecuteTime": {
     "end_time": "2024-08-21T08:45:08.989503Z",
     "start_time": "2024-08-21T08:45:08.258860Z"
    }
   },
   "cell_type": "code",
   "source": [
    "print(dfmovie.count())\n",
    "print(dfmovie.select('title').distinct().count())"
   ],
   "id": "df5cb0a0cbda129f",
   "outputs": [
    {
     "name": "stdout",
     "output_type": "stream",
     "text": [
      "27278\n",
      "27262\n"
     ]
    }
   ],
   "execution_count": 14
  },
  {
   "metadata": {
    "ExecuteTime": {
     "end_time": "2024-08-21T08:45:09.548433Z",
     "start_time": "2024-08-21T08:45:09.013112Z"
    }
   },
   "cell_type": "code",
   "source": [
    "dfmovie_duplicateswithcount = dfmovie.groupby('title').count().where(col('count') > 1)\n",
    "dfmovie_duplicateswithcount.show()"
   ],
   "id": "190a761020ff5bc1",
   "outputs": [
    {
     "name": "stdout",
     "output_type": "stream",
     "text": [
      "+--------------------+-----+\n",
      "|               title|count|\n",
      "+--------------------+-----+\n",
      "|     Casanova (2005)|    2|\n",
      "|     Paradise (2013)|    2|\n",
      "|       Hamlet (2000)|    2|\n",
      "|     Blackout (2007)|    2|\n",
      "|        Chaos (2005)|    2|\n",
      "|         Emma (1996)|    2|\n",
      "|      Aladdin (1992)|    2|\n",
      "|Johnny Express (2...|    2|\n",
      "|War of the Worlds...|    2|\n",
      "|      Beneath (2013)|    2|\n",
      "|Clear History (2013)|    2|\n",
      "|Men with Guns (1997)|    2|\n",
      "|20,000 Leagues Un...|    2|\n",
      "|      Darling (2007)|    2|\n",
      "|    Girl, The (2012)|    2|\n",
      "|      Offside (2006)|    2|\n",
      "+--------------------+-----+\n",
      "\n"
     ]
    }
   ],
   "execution_count": 15
  },
  {
   "metadata": {
    "ExecuteTime": {
     "end_time": "2024-08-21T08:45:10.437161Z",
     "start_time": "2024-08-21T08:45:09.678821Z"
    }
   },
   "cell_type": "code",
   "source": [
    "dfmovie_duplicates = dfmovie_duplicateswithcount.select('title')\n",
    "dfmovie_duplicates.show()"
   ],
   "id": "4b5070c9cd003765",
   "outputs": [
    {
     "name": "stdout",
     "output_type": "stream",
     "text": [
      "+--------------------+\n",
      "|               title|\n",
      "+--------------------+\n",
      "|     Casanova (2005)|\n",
      "|     Paradise (2013)|\n",
      "|       Hamlet (2000)|\n",
      "|     Blackout (2007)|\n",
      "|        Chaos (2005)|\n",
      "|         Emma (1996)|\n",
      "|      Aladdin (1992)|\n",
      "|Johnny Express (2...|\n",
      "|War of the Worlds...|\n",
      "|      Beneath (2013)|\n",
      "|Clear History (2013)|\n",
      "|Men with Guns (1997)|\n",
      "|20,000 Leagues Un...|\n",
      "|      Darling (2007)|\n",
      "|    Girl, The (2012)|\n",
      "|      Offside (2006)|\n",
      "+--------------------+\n",
      "\n"
     ]
    }
   ],
   "execution_count": 16
  },
  {
   "metadata": {
    "ExecuteTime": {
     "end_time": "2024-08-21T08:45:11.968756Z",
     "start_time": "2024-08-21T08:45:10.562791Z"
    }
   },
   "cell_type": "code",
   "source": "dfmovie.join(dfmovie_duplicates, on='title').orderBy('title').show(1000)",
   "id": "1bd1a264a9c4bb35",
   "outputs": [
    {
     "name": "stdout",
     "output_type": "stream",
     "text": [
      "+--------------------+-------+--------------------+\n",
      "|               title|movieId|              genres|\n",
      "+--------------------+-------+--------------------+\n",
      "|20,000 Leagues Un...| 102190|Adventure|Romance...|\n",
      "|20,000 Leagues Un...| 114130|      Romance|Sci-Fi|\n",
      "|      Aladdin (1992)|    588|Adventure|Animati...|\n",
      "|      Aladdin (1992)| 114240|Adventure|Animati...|\n",
      "|      Beneath (2013)| 104035|              Horror|\n",
      "|      Beneath (2013)| 115777|              Horror|\n",
      "|     Blackout (2007)|  66140|     Horror|Thriller|\n",
      "|     Blackout (2007)|  85070|               Drama|\n",
      "|     Casanova (2005)|  42015|Action|Adventure|...|\n",
      "|     Casanova (2005)| 128862|Comedy|Drama|Romance|\n",
      "|        Chaos (2005)|  47254|Action|Crime|Dram...|\n",
      "|        Chaos (2005)|  67459|  Crime|Drama|Horror|\n",
      "|Clear History (2013)| 104155|              Comedy|\n",
      "|Clear History (2013)| 122940|              Comedy|\n",
      "|      Darling (2007)|  93279|               Drama|\n",
      "|      Darling (2007)| 130062|               Drama|\n",
      "|         Emma (1996)|    838|Comedy|Drama|Romance|\n",
      "|         Emma (1996)|  26958|             Romance|\n",
      "|    Girl, The (2012)|  97773|               Drama|\n",
      "|    Girl, The (2012)| 101212|               Drama|\n",
      "|       Hamlet (2000)|   3598|Crime|Drama|Roman...|\n",
      "|       Hamlet (2000)|  65665|               Drama|\n",
      "|Johnny Express (2...| 111519|Animation|Comedy|...|\n",
      "|Johnny Express (2...| 128991|Animation|Comedy|...|\n",
      "|Men with Guns (1997)|   1788|        Action|Drama|\n",
      "|Men with Guns (1997)|  26982|               Drama|\n",
      "|      Offside (2006)|  48682|        Comedy|Drama|\n",
      "|      Offside (2006)|  80330|        Comedy|Drama|\n",
      "|     Paradise (2013)| 113459|        Comedy|Drama|\n",
      "|     Paradise (2013)| 121586|             Romance|\n",
      "|War of the Worlds...|  34048|Action|Adventure|...|\n",
      "|War of the Worlds...|  64997|       Action|Sci-Fi|\n",
      "+--------------------+-------+--------------------+\n",
      "\n"
     ]
    }
   ],
   "execution_count": 17
  },
  {
   "metadata": {
    "ExecuteTime": {
     "end_time": "2024-08-21T08:45:12.927914Z",
     "start_time": "2024-08-21T08:45:12.038644Z"
    }
   },
   "cell_type": "code",
   "source": [
    "dfmovie_toberemoved = dfmovie.join(dfmovie_duplicates, on='title').select('movieId')\n",
    "dfmovie_toberemoved.show(1000)"
   ],
   "id": "fbc9495517318642",
   "outputs": [
    {
     "name": "stdout",
     "output_type": "stream",
     "text": [
      "+-------+\n",
      "|movieId|\n",
      "+-------+\n",
      "| 128862|\n",
      "|  42015|\n",
      "| 121586|\n",
      "| 113459|\n",
      "|  65665|\n",
      "|   3598|\n",
      "|  85070|\n",
      "|  66140|\n",
      "|  67459|\n",
      "|  47254|\n",
      "|  26958|\n",
      "|    838|\n",
      "| 114240|\n",
      "|    588|\n",
      "| 128991|\n",
      "| 111519|\n",
      "|  64997|\n",
      "|  34048|\n",
      "| 115777|\n",
      "| 104035|\n",
      "| 122940|\n",
      "| 104155|\n",
      "|  26982|\n",
      "|   1788|\n",
      "| 114130|\n",
      "| 102190|\n",
      "| 130062|\n",
      "|  93279|\n",
      "| 101212|\n",
      "|  97773|\n",
      "|  80330|\n",
      "|  48682|\n",
      "+-------+\n",
      "\n"
     ]
    }
   ],
   "execution_count": 18
  },
  {
   "metadata": {
    "ExecuteTime": {
     "end_time": "2024-08-21T08:45:13.177884Z",
     "start_time": "2024-08-21T08:45:13.048584Z"
    }
   },
   "cell_type": "code",
   "source": [
    "from pyspark.sql.functions import split, explode\n",
    "dfmoviegenre = dfmovie.select('movieId', 'genres')\n",
    "dfmoviegenre = dfmoviegenre.withColumn('genre', explode(split(dfmoviegenre['genres'], '\\|')))\n",
    "dfmoviegenre = dfmoviegenre.select('movieId', 'genre')\n",
    "dfmoviegenre.show()"
   ],
   "id": "5435c67717d91532",
   "outputs": [
    {
     "name": "stdout",
     "output_type": "stream",
     "text": [
      "+-------+---------+\n",
      "|movieId|    genre|\n",
      "+-------+---------+\n",
      "|      1|Adventure|\n",
      "|      1|Animation|\n",
      "|      1| Children|\n",
      "|      1|   Comedy|\n",
      "|      1|  Fantasy|\n",
      "|      2|Adventure|\n",
      "|      2| Children|\n",
      "|      2|  Fantasy|\n",
      "|      3|   Comedy|\n",
      "|      3|  Romance|\n",
      "|      4|   Comedy|\n",
      "|      4|    Drama|\n",
      "|      4|  Romance|\n",
      "|      5|   Comedy|\n",
      "|      6|   Action|\n",
      "|      6|    Crime|\n",
      "|      6| Thriller|\n",
      "|      7|   Comedy|\n",
      "|      7|  Romance|\n",
      "|      8|Adventure|\n",
      "+-------+---------+\n",
      "only showing top 20 rows\n",
      "\n"
     ]
    },
    {
     "name": "stderr",
     "output_type": "stream",
     "text": [
      "<>:3: SyntaxWarning: invalid escape sequence '\\|'\n",
      "<>:3: SyntaxWarning: invalid escape sequence '\\|'\n",
      "C:\\Users\\p-mih\\AppData\\Local\\Temp\\ipykernel_16752\\1823720524.py:3: SyntaxWarning: invalid escape sequence '\\|'\n",
      "  dfmoviegenre = dfmoviegenre.withColumn('genre', explode(split(dfmoviegenre['genres'], '\\|')))\n"
     ]
    }
   ],
   "execution_count": 19
  },
  {
   "metadata": {
    "ExecuteTime": {
     "end_time": "2024-08-21T08:45:14.166242Z",
     "start_time": "2024-08-21T08:45:13.288049Z"
    }
   },
   "cell_type": "code",
   "source": "dfmoviegenre.groupby('movieId', 'genre').count().where(col('count') > 1).show()",
   "id": "7b459a366ee1fc5d",
   "outputs": [
    {
     "name": "stdout",
     "output_type": "stream",
     "text": [
      "+-------+-----+-----+\n",
      "|movieId|genre|count|\n",
      "+-------+-----+-----+\n",
      "+-------+-----+-----+\n",
      "\n"
     ]
    }
   ],
   "execution_count": 20
  },
  {
   "metadata": {
    "ExecuteTime": {
     "end_time": "2024-08-21T08:45:22.299773Z",
     "start_time": "2024-08-21T08:45:14.215733Z"
    }
   },
   "cell_type": "code",
   "source": [
    "print(dfrating.select('movieId').count())\n",
    "print(dfrating.select('movieId').join(dfmovie, on='movieId').count())"
   ],
   "id": "9fbb72586e7c624d",
   "outputs": [
    {
     "name": "stdout",
     "output_type": "stream",
     "text": [
      "20000263\n",
      "20000263\n"
     ]
    }
   ],
   "execution_count": 21
  },
  {
   "metadata": {
    "ExecuteTime": {
     "end_time": "2024-08-21T08:45:35.701433Z",
     "start_time": "2024-08-21T08:45:22.322679Z"
    }
   },
   "cell_type": "code",
   "source": "dfrating.groupby('userId', 'movieId').count().orderBy('count', ascending=False).show()",
   "id": "9eec86208cfbfbc5",
   "outputs": [
    {
     "name": "stdout",
     "output_type": "stream",
     "text": [
      "+------+-------+-----+\n",
      "|userId|movieId|count|\n",
      "+------+-------+-----+\n",
      "|     1|   1333|    1|\n",
      "|     1|   2644|    1|\n",
      "|     2|    908|    1|\n",
      "|     7|   3717|    1|\n",
      "|     1|  31696|    1|\n",
      "|     7|   3988|    1|\n",
      "|     5|   1073|    1|\n",
      "|    11|   8977|    1|\n",
      "|     2|    924|    1|\n",
      "|    14|    780|    1|\n",
      "|     7|   2942|    1|\n",
      "|    19|    802|    1|\n",
      "|     2|    110|    1|\n",
      "|    22|    303|    1|\n",
      "|    11|     32|    1|\n",
      "|    24|   1375|    1|\n",
      "|     3|   1247|    1|\n",
      "|    24|   2268|    1|\n",
      "|    11|   6731|    1|\n",
      "|    24|   2501|    1|\n",
      "+------+-------+-----+\n",
      "only showing top 20 rows\n",
      "\n"
     ]
    }
   ],
   "execution_count": 22
  },
  {
   "metadata": {
    "ExecuteTime": {
     "end_time": "2024-08-21T08:45:44.196589Z",
     "start_time": "2024-08-21T08:45:35.794345Z"
    }
   },
   "cell_type": "code",
   "source": [
    "from pyspark.sql import functions as F\n",
    "\n",
    "dfrating.groupBy('userId').agg(F.avg(\"rating\"), F.count(\"rating\")).orderBy('avg(rating)').show()"
   ],
   "id": "6931341501ab8bb3",
   "outputs": [
    {
     "name": "stdout",
     "output_type": "stream",
     "text": [
      "+------+------------------+-------------+\n",
      "|userId|       avg(rating)|count(rating)|\n",
      "+------+------------------+-------------+\n",
      "| 20501|               0.5|           20|\n",
      "| 16983|               0.5|           29|\n",
      "| 20511|               0.5|           20|\n",
      "| 44174|               0.5|           20|\n",
      "| 67322|               0.5|           20|\n",
      "| 24530|               0.5|           21|\n",
      "| 65365|               0.5|           20|\n",
      "| 72823|               0.5|           20|\n",
      "|106618|               0.5|           20|\n",
      "| 74276|               0.5|           20|\n",
      "|117730|               0.5|           20|\n",
      "| 74084|               0.5|           20|\n",
      "|103630|               0.5|           20|\n",
      "| 85669|0.5227272727272727|           22|\n",
      "| 90247|             0.525|           20|\n",
      "| 84564|              0.55|           20|\n",
      "|  7098|               0.6|           20|\n",
      "| 39471|0.6666666666666666|           21|\n",
      "| 99445|0.6739130434782609|           23|\n",
      "|122284|             0.675|           20|\n",
      "+------+------------------+-------------+\n",
      "only showing top 20 rows\n",
      "\n"
     ]
    }
   ],
   "execution_count": 23
  },
  {
   "metadata": {
    "ExecuteTime": {
     "end_time": "2024-08-21T08:45:52.716942Z",
     "start_time": "2024-08-21T08:45:44.303555Z"
    }
   },
   "cell_type": "code",
   "source": "dfrating.groupBy('userId').agg(F.avg(\"rating\"), F.count(\"rating\")).orderBy('avg(rating)', ascending=False).show()",
   "id": "a0b1889223f32c19",
   "outputs": [
    {
     "name": "stdout",
     "output_type": "stream",
     "text": [
      "+------+-----------+-------------+\n",
      "|userId|avg(rating)|count(rating)|\n",
      "+------+-----------+-------------+\n",
      "| 40559|        5.0|           20|\n",
      "| 54126|        5.0|           49|\n",
      "|  7793|        5.0|           21|\n",
      "| 66525|        5.0|           22|\n",
      "| 19801|        5.0|           20|\n",
      "|119100|        5.0|           57|\n",
      "| 81755|        5.0|           28|\n",
      "| 61498|        5.0|           20|\n",
      "| 42101|        5.0|          100|\n",
      "|  3354|        5.0|           20|\n",
      "| 53212|        5.0|           20|\n",
      "| 59065|        5.0|           26|\n",
      "| 51651|        5.0|           65|\n",
      "| 20173|        5.0|           20|\n",
      "| 48423|        5.0|           20|\n",
      "| 81489|        5.0|           21|\n",
      "| 48140|        5.0|           20|\n",
      "| 46067|        5.0|           24|\n",
      "| 62285|        5.0|           21|\n",
      "|124248|        5.0|           21|\n",
      "+------+-----------+-------------+\n",
      "only showing top 20 rows\n",
      "\n"
     ]
    }
   ],
   "execution_count": 24
  },
  {
   "metadata": {
    "ExecuteTime": {
     "end_time": "2024-08-21T08:46:38.027535Z",
     "start_time": "2024-08-21T08:45:52.770549Z"
    }
   },
   "cell_type": "code",
   "source": [
    "from pyspark.ml.recommendation import ALS\n",
    "\n",
    "(ratings_training, ratings_test) = dfrating.randomSplit([0.8,0.2])\n",
    "\n",
    "als = ALS(maxIter=10, regParam=0.1, userCol=\"userId\", itemCol=\"movieId\", ratingCol=\"rating\", coldStartStrategy=\"drop\")\n",
    "\n",
    "model = als.fit(ratings_training)"
   ],
   "id": "7fee7f766269123a",
   "outputs": [],
   "execution_count": 25
  },
  {
   "metadata": {
    "ExecuteTime": {
     "end_time": "2024-08-21T08:46:38.205100Z",
     "start_time": "2024-08-21T08:46:38.064993Z"
    }
   },
   "cell_type": "code",
   "source": "predictions = model.transform(ratings_test)",
   "id": "4edce6251b5dc3ac",
   "outputs": [],
   "execution_count": 26
  },
  {
   "metadata": {
    "ExecuteTime": {
     "end_time": "2024-08-21T08:46:56.204869Z",
     "start_time": "2024-08-21T08:46:38.238321Z"
    }
   },
   "cell_type": "code",
   "source": [
    "evaluator = RegressionEvaluator(metricName=\"rmse\", labelCol=\"rating\", predictionCol=\"prediction\")\n",
    "rmse = evaluator.evaluate(predictions)\n",
    "print(f\"Root-mean-square error = {rmse}\")"
   ],
   "id": "fa88573ac1decbe4",
   "outputs": [
    {
     "name": "stdout",
     "output_type": "stream",
     "text": [
      "Root-mean-square error = 0.806644630069214\n"
     ]
    }
   ],
   "execution_count": 27
  }
 ],
 "metadata": {
  "kernelspec": {
   "display_name": "Python 3",
   "language": "python",
   "name": "python3"
  },
  "language_info": {
   "codemirror_mode": {
    "name": "ipython",
    "version": 2
   },
   "file_extension": ".py",
   "mimetype": "text/x-python",
   "name": "python",
   "nbconvert_exporter": "python",
   "pygments_lexer": "ipython2",
   "version": "2.7.6"
  }
 },
 "nbformat": 4,
 "nbformat_minor": 5
}
