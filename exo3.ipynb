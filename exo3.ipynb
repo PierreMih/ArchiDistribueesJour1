{
 "cells": [
  {
   "cell_type": "code",
   "id": "initial_id",
   "metadata": {
    "collapsed": true,
    "ExecuteTime": {
     "end_time": "2024-08-21T14:01:01.054051Z",
     "start_time": "2024-08-21T14:01:01.039437Z"
    }
   },
   "source": [
    "from pyspark.sql import SparkSession\n",
    "\n",
    "spark = SparkSession.builder \\\n",
    "    .master(\"local[*]\") \\\n",
    "    .appName(\"Exo2\") \\\n",
    "    .config(\"spark.ui.port\",\"4050\")\\\n",
    "    .config(\"spark.executor.memory\",\"10g\")\\\n",
    "    .config(\"spark.driver.memory\",\"4g\")\\\n",
    "    .getOrCreate()"
   ],
   "outputs": [],
   "execution_count": 5
  },
  {
   "metadata": {
    "ExecuteTime": {
     "end_time": "2024-08-21T14:01:02.254698Z",
     "start_time": "2024-08-21T14:01:01.064366Z"
    }
   },
   "cell_type": "code",
   "source": [
    "df = spark.read.csv(\"exo3_data/city_temperature.csv\", header=True, inferSchema=True)\n",
    "spark.createDataFrame()\n",
    "df.show(5)\n",
    "df.printSchema()\n",
    "#dfgenomescores.select('relevance').describe().show()"
   ],
   "id": "a3adb6fda9525521",
   "outputs": [
    {
     "name": "stdout",
     "output_type": "stream",
     "text": [
      "+------+-------+-----+-------+-----+---+----+--------------+\n",
      "|Region|Country|State|   City|Month|Day|Year|AvgTemperature|\n",
      "+------+-------+-----+-------+-----+---+----+--------------+\n",
      "|Africa|Algeria| NULL|Algiers|    1|  1|1995|          64.2|\n",
      "|Africa|Algeria| NULL|Algiers|    1|  2|1995|          49.4|\n",
      "|Africa|Algeria| NULL|Algiers|    1|  3|1995|          48.8|\n",
      "|Africa|Algeria| NULL|Algiers|    1|  4|1995|          46.4|\n",
      "|Africa|Algeria| NULL|Algiers|    1|  5|1995|          47.9|\n",
      "+------+-------+-----+-------+-----+---+----+--------------+\n",
      "only showing top 5 rows\n",
      "\n",
      "root\n",
      " |-- Region: string (nullable = true)\n",
      " |-- Country: string (nullable = true)\n",
      " |-- State: string (nullable = true)\n",
      " |-- City: string (nullable = true)\n",
      " |-- Month: integer (nullable = true)\n",
      " |-- Day: integer (nullable = true)\n",
      " |-- Year: integer (nullable = true)\n",
      " |-- AvgTemperature: double (nullable = true)\n",
      "\n"
     ]
    }
   ],
   "execution_count": 6
  },
  {
   "metadata": {
    "ExecuteTime": {
     "end_time": "2024-08-21T14:28:50.637521Z",
     "start_time": "2024-08-21T14:28:49.563286Z"
    }
   },
   "cell_type": "code",
   "source": [
    "print(df.rdd.getNumPartitions())\n",
    "#df_partitioned = df.repartition(\"Year\", \"Region\", \"Country\",\"City\")\n",
    "df_partitioned = df.repartition(\"Year\")\n",
    "print(df_partitioned.rdd.getNumPartitions())"
   ],
   "id": "64076e66d9249ff8",
   "outputs": [
    {
     "name": "stdout",
     "output_type": "stream",
     "text": [
      "12\n",
      "13\n"
     ]
    }
   ],
   "execution_count": 18
  },
  {
   "metadata": {
    "ExecuteTime": {
     "end_time": "2024-08-21T14:03:55.637062Z",
     "start_time": "2024-08-21T14:03:54.762288Z"
    }
   },
   "cell_type": "code",
   "source": "df.groupby(\"Year\").count().show(100)",
   "id": "4136926a425bc1c8",
   "outputs": [
    {
     "name": "stdout",
     "output_type": "stream",
     "text": [
      "+----+------+\n",
      "|Year| count|\n",
      "+----+------+\n",
      "|2003|119140|\n",
      "|2007|115428|\n",
      "|2018|106698|\n",
      "|2015|107498|\n",
      "|2006|117647|\n",
      "|2013|111021|\n",
      "|1997|118656|\n",
      "|2014|109018|\n",
      "|2019|106337|\n",
      "|2004|118645|\n",
      "|1996|118951|\n",
      "|1998|119082|\n",
      "|2020| 38810|\n",
      "|2012|111993|\n",
      "|2009|114247|\n",
      "|2016|107237|\n",
      "|1995|118616|\n",
      "|2001|119355|\n",
      "|2005|117895|\n",
      "| 201|   351|\n",
      "|2000|119682|\n",
      "|2010|115627|\n",
      "|2011|113740|\n",
      "|2008|114908|\n",
      "|2017|106946|\n",
      "|1999|119355|\n",
      "|2002|119355|\n",
      "| 200|    89|\n",
      "+----+------+\n",
      "\n"
     ]
    }
   ],
   "execution_count": 15
  }
 ],
 "metadata": {
  "kernelspec": {
   "display_name": "Python 3",
   "language": "python",
   "name": "python3"
  },
  "language_info": {
   "codemirror_mode": {
    "name": "ipython",
    "version": 2
   },
   "file_extension": ".py",
   "mimetype": "text/x-python",
   "name": "python",
   "nbconvert_exporter": "python",
   "pygments_lexer": "ipython2",
   "version": "2.7.6"
  }
 },
 "nbformat": 4,
 "nbformat_minor": 5
}
